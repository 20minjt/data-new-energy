{
 "cells": [
  {
   "cell_type": "markdown",
   "metadata": {},
   "source": [
    "# Titanic Solution Using Speedml\n",
    "\n",
    "### This notebook uses the [Speedml](https://speedml.com)  Python package to speed start machine learning projects.\n",
    "\n",
    "Speedml integrates best ML packages and popular strategies used by top data scientists in an easy to use Python package.\n",
    "\n",
    "> Using Speedml on Titanic dataset we **quickly jumped from low 80% rank to top 20% rank**, within just a few feature engineering iterations.\n",
    "\n",
    "Speedml is under active development and Kaggle version of the API may not be the latest. For demonstrating the latest Speedml features we have also created the same notebook on GitHub.\n",
    "\n",
    "### Download the latest version of [this notebook from GitHub](https://github.com/Speedml/notebooks/blob/master/titanic/titanic-solution-using-speedml.ipynb).\n",
    "\n",
    "### Table of Contents\n",
    "\n",
    "- Loading the datasets.\n",
    "- Differentiating between numerical, categorical, high-cardinality, and continuous features.\n",
    "- Feature correlation heatmap matrix.\n",
    "- Feature distribution for outliers detection.\n",
    "- Plotting continuous features for outliers detection.\n",
    "- Plotting categorical features for outliers detection.\n",
    "- Fixing outliers with a single line of code.\n",
    "- Plotting continuous features against categorical features.\n",
    "- Feature engineering for high-cardinality.\n",
    "- New feature extraction from existing features.\n",
    "- Hyper-parameters tuning for model classifier.\n",
    "- Model evaluation and accuracy ranking.\n",
    "- Model prediction and feature selection.\n",
    "- Saving the results."
   ]
  },
  {
   "cell_type": "markdown",
   "metadata": {},
   "source": [
    "## Getting Started\n",
    "\n",
    "To get started all you need to do is include one package in your project. Speedml includes pandas, sklearn, numpy, xgboost, by default so you do not need to import these."
   ]
  },
  {
   "cell_type": "code",
   "execution_count": 1,
   "metadata": {
    "ExecuteTime": {
     "end_time": "2017-05-16T11:30:16.281555",
     "start_time": "2017-05-16T11:30:10.992468"
    },
    "collapsed": true
   },
   "outputs": [],
   "source": [
    "from speedml import Speedml"
   ]
  },
  {
   "cell_type": "markdown",
   "metadata": {},
   "source": [
    "It takes one line of code to initialize train, test datasets, define the target and unique id variables. This also initializes wrapper components for EDA (sml.plot), XGBoost (sml.xgb), modeling (sml.model), feature engineering (sml.feature) and more..."
   ]
  },
  {
   "cell_type": "code",
   "execution_count": 2,
   "metadata": {
    "ExecuteTime": {
     "end_time": "2017-05-16T11:30:16.341609",
     "start_time": "2017-05-16T11:30:16.284311"
    }
   },
   "outputs": [
    {
     "data": {
      "text/plain": [
       "'train (891, 11) | test (418, 10)'"
      ]
     },
     "execution_count": 2,
     "metadata": {},
     "output_type": "execute_result"
    }
   ],
   "source": [
    "sml = Speedml('../input/train.csv', \n",
    "              '../input/test.csv', \n",
    "              target = 'Survived',\n",
    "              uid = 'PassengerId')\n",
    "sml.shape()"
   ]
  },
  {
   "cell_type": "markdown",
   "metadata": {},
   "source": [
    "## Configure\n",
    "\n",
    "Speedml workflow and analytics are user configurable. Following method call configures the threshold for identifying if we may be over-fitting our model based on ratio of features compared with samples. The method returns default (call without arguments) or updated configuration dictionary.\n",
    "\n",
    "> Here we are (re)setting the overfit_threshold to $\\frac{\\sqrt{N}}{N}$ where $N$ is the number of samples in the train dataset. The rule of thumb is to have number of highly correlated features to be less than $\\sqrt{N}$ to avoid over-fitting. If features are not correlated then this number can go as high as $N - 1$.\n",
    "\n",
    "Also note how intuitively Speeml exposes the methods like sqrt of popular packages like numpy and pandas objects like the train dataframe."
   ]
  },
  {
   "cell_type": "code",
   "execution_count": 3,
   "metadata": {
    "ExecuteTime": {
     "end_time": "2017-05-16T11:30:16.355417",
     "start_time": "2017-05-16T11:30:16.345225"
    }
   },
   "outputs": [
    {
     "data": {
      "text/plain": [
       "{'high_cardinality': 10,\n",
       " 'outlier_threshold': 3,\n",
       " 'outpath': 'output/',\n",
       " 'overfit_threshold': 0.033501260508640406,\n",
       " 'unique_ratio': 80}"
      ]
     },
     "execution_count": 3,
     "metadata": {},
     "output_type": "execute_result"
    },
    {
     "data": {
      "text/plain": [
       "{'high_cardinality': 10,\n",
       " 'outlier_threshold': 3,\n",
       " 'outpath': '../output/',\n",
       " 'overfit_threshold': 0.033501260508640406,\n",
       " 'unique_ratio': 80}"
      ]
     },
     "execution_count": 3,
     "metadata": {},
     "output_type": "execute_result"
    }
   ],
   "source": [
    "sml.configure('overfit_threshold', \n",
    "              sml.np.sqrt(sml.train.shape[0]) / sml.train.shape[0])\n",
    "sml.configure('outpath', '../output/')"
   ]
  },
  {
   "cell_type": "markdown",
   "metadata": {},
   "source": [
    "## Speed EDA\n",
    "\n",
    "Then returning results from just one Speedml method performs quick EDA on the entire dataset."
   ]
  },
  {
   "cell_type": "code",
   "execution_count": 4,
   "metadata": {
    "ExecuteTime": {
     "end_time": "2017-05-16T11:30:16.409961",
     "start_time": "2017-05-16T11:30:16.358401"
    }
   },
   "outputs": [
    {
     "data": {
      "text/html": [
       "<div>\n",
       "<style>\n",
       "    .dataframe thead tr:only-child th {\n",
       "        text-align: right;\n",
       "    }\n",
       "\n",
       "    .dataframe thead th {\n",
       "        text-align: left;\n",
       "    }\n",
       "\n",
       "    .dataframe tbody tr th {\n",
       "        vertical-align: top;\n",
       "    }\n",
       "</style>\n",
       "<table border=\"1\" class=\"dataframe\">\n",
       "  <thead>\n",
       "    <tr style=\"text-align: right;\">\n",
       "      <th></th>\n",
       "      <th>Results</th>\n",
       "      <th>Observations</th>\n",
       "    </tr>\n",
       "  </thead>\n",
       "  <tbody>\n",
       "    <tr>\n",
       "      <th>Speedml Release</th>\n",
       "      <td>v0.9.3</td>\n",
       "      <td>Visit https://speedml.com for release notes.</td>\n",
       "    </tr>\n",
       "    <tr>\n",
       "      <th>Nulls</th>\n",
       "      <td>1014</td>\n",
       "      <td>Use feature.impute.</td>\n",
       "    </tr>\n",
       "    <tr>\n",
       "      <th>Outliers Upper</th>\n",
       "      <td>[SibSp, Fare]</td>\n",
       "      <td>Positive skew (&gt; 3). Use feature.outliers(upper).</td>\n",
       "    </tr>\n",
       "    <tr>\n",
       "      <th>Shape</th>\n",
       "      <td>train (891, 11) | test (418, 10)</td>\n",
       "      <td></td>\n",
       "    </tr>\n",
       "    <tr>\n",
       "      <th>Numerical Ratio</th>\n",
       "      <td>54%</td>\n",
       "      <td>Aim for 100% numerical.</td>\n",
       "    </tr>\n",
       "    <tr>\n",
       "      <th>Numerical High-cardinality</th>\n",
       "      <td>[Age, Fare]</td>\n",
       "      <td>(&gt;10) categories. Use feature.density</td>\n",
       "    </tr>\n",
       "    <tr>\n",
       "      <th>Numerical Categorical</th>\n",
       "      <td>[Survived, Pclass, SibSp, Parch]</td>\n",
       "      <td>Use plot.ordinal.</td>\n",
       "    </tr>\n",
       "    <tr>\n",
       "      <th>Text High-cardinality</th>\n",
       "      <td>[Cabin, Ticket]</td>\n",
       "      <td>(&gt;10) categories. Use feature.labels.</td>\n",
       "    </tr>\n",
       "    <tr>\n",
       "      <th>Text Categorical</th>\n",
       "      <td>[Embarked, Sex]</td>\n",
       "      <td>Use feature.labels or feature.mapping.</td>\n",
       "    </tr>\n",
       "    <tr>\n",
       "      <th>Text Unique</th>\n",
       "      <td>[Name]</td>\n",
       "      <td>~80% unique. Use feature.extract or feature.drop.</td>\n",
       "    </tr>\n",
       "    <tr>\n",
       "      <th>Target Analysis (Survived)</th>\n",
       "      <td>Model ready.</td>\n",
       "      <td>Use classification models.</td>\n",
       "    </tr>\n",
       "  </tbody>\n",
       "</table>\n",
       "</div>"
      ],
      "text/plain": [
       "                                                     Results  \\\n",
       "Speedml Release                                       v0.9.3   \n",
       "Nulls                                                   1014   \n",
       "Outliers Upper                                 [SibSp, Fare]   \n",
       "Shape                       train (891, 11) | test (418, 10)   \n",
       "Numerical Ratio                                          54%   \n",
       "Numerical High-cardinality                       [Age, Fare]   \n",
       "Numerical Categorical       [Survived, Pclass, SibSp, Parch]   \n",
       "Text High-cardinality                        [Cabin, Ticket]   \n",
       "Text Categorical                             [Embarked, Sex]   \n",
       "Text Unique                                           [Name]   \n",
       "Target Analysis (Survived)                      Model ready.   \n",
       "\n",
       "                                                                 Observations  \n",
       "Speedml Release                  Visit https://speedml.com for release notes.  \n",
       "Nulls                                                     Use feature.impute.  \n",
       "Outliers Upper              Positive skew (> 3). Use feature.outliers(upper).  \n",
       "Shape                                                                          \n",
       "Numerical Ratio                                       Aim for 100% numerical.  \n",
       "Numerical High-cardinality              (>10) categories. Use feature.density  \n",
       "Numerical Categorical                                       Use plot.ordinal.  \n",
       "Text High-cardinality                   (>10) categories. Use feature.labels.  \n",
       "Text Categorical                       Use feature.labels or feature.mapping.  \n",
       "Text Unique                 ~80% unique. Use feature.extract or feature.drop.  \n",
       "Target Analysis (Survived)                         Use classification models.  "
      ]
     },
     "execution_count": 4,
     "metadata": {},
     "output_type": "execute_result"
    }
   ],
   "source": [
    "sml.eda()"
   ]
  },
  {
   "cell_type": "markdown",
   "metadata": {},
   "source": [
    "**Observations**\n",
    "\n",
    "- Most model classifiers cannot handle NaN or null values. Data wrangle these to remove all null values.\n",
    "- Models require numerical datasets so converting 100% of features to numerical is a data wrangling and feature engineering goal.\n",
    "- High-cardinality features or features with lots of categories need to be addressed in a special manner for better model performance. One of the feature engineering strategies is banding of ranges of values for reducing the number of categories. Another strategy is to determine density of repeating values.\n",
    "- Categorical numerical features can be plotted differently (plot bars, histograms) from high-cardinality or continuous features (use scatter plots).\n",
    "- Non-categorical text features cannot be directly converted to numeric. These are candidates for feature extraction by identifying repeating patterns."
   ]
  },
  {
   "cell_type": "code",
   "execution_count": 5,
   "metadata": {
    "ExecuteTime": {
     "end_time": "2017-05-16T11:30:16.442494",
     "start_time": "2017-05-16T11:30:16.412017"
    }
   },
   "outputs": [
    {
     "data": {
      "text/html": [
       "<div>\n",
       "<style>\n",
       "    .dataframe thead tr:only-child th {\n",
       "        text-align: right;\n",
       "    }\n",
       "\n",
       "    .dataframe thead th {\n",
       "        text-align: left;\n",
       "    }\n",
       "\n",
       "    .dataframe tbody tr th {\n",
       "        vertical-align: top;\n",
       "    }\n",
       "</style>\n",
       "<table border=\"1\" class=\"dataframe\">\n",
       "  <thead>\n",
       "    <tr style=\"text-align: right;\">\n",
       "      <th></th>\n",
       "      <th>Survived</th>\n",
       "      <th>Pclass</th>\n",
       "      <th>Name</th>\n",
       "      <th>Sex</th>\n",
       "      <th>Age</th>\n",
       "      <th>SibSp</th>\n",
       "      <th>Parch</th>\n",
       "      <th>Ticket</th>\n",
       "      <th>Fare</th>\n",
       "      <th>Cabin</th>\n",
       "      <th>Embarked</th>\n",
       "    </tr>\n",
       "  </thead>\n",
       "  <tbody>\n",
       "    <tr>\n",
       "      <th>0</th>\n",
       "      <td>0</td>\n",
       "      <td>3</td>\n",
       "      <td>Braund, Mr. Owen Harris</td>\n",
       "      <td>male</td>\n",
       "      <td>22.0</td>\n",
       "      <td>1</td>\n",
       "      <td>0</td>\n",
       "      <td>A/5 21171</td>\n",
       "      <td>7.2500</td>\n",
       "      <td>NaN</td>\n",
       "      <td>S</td>\n",
       "    </tr>\n",
       "    <tr>\n",
       "      <th>1</th>\n",
       "      <td>1</td>\n",
       "      <td>1</td>\n",
       "      <td>Cumings, Mrs. John Bradley (Florence Briggs Th...</td>\n",
       "      <td>female</td>\n",
       "      <td>38.0</td>\n",
       "      <td>1</td>\n",
       "      <td>0</td>\n",
       "      <td>PC 17599</td>\n",
       "      <td>71.2833</td>\n",
       "      <td>C85</td>\n",
       "      <td>C</td>\n",
       "    </tr>\n",
       "    <tr>\n",
       "      <th>2</th>\n",
       "      <td>1</td>\n",
       "      <td>3</td>\n",
       "      <td>Heikkinen, Miss. Laina</td>\n",
       "      <td>female</td>\n",
       "      <td>26.0</td>\n",
       "      <td>0</td>\n",
       "      <td>0</td>\n",
       "      <td>STON/O2. 3101282</td>\n",
       "      <td>7.9250</td>\n",
       "      <td>NaN</td>\n",
       "      <td>S</td>\n",
       "    </tr>\n",
       "    <tr>\n",
       "      <th>3</th>\n",
       "      <td>1</td>\n",
       "      <td>1</td>\n",
       "      <td>Futrelle, Mrs. Jacques Heath (Lily May Peel)</td>\n",
       "      <td>female</td>\n",
       "      <td>35.0</td>\n",
       "      <td>1</td>\n",
       "      <td>0</td>\n",
       "      <td>113803</td>\n",
       "      <td>53.1000</td>\n",
       "      <td>C123</td>\n",
       "      <td>S</td>\n",
       "    </tr>\n",
       "    <tr>\n",
       "      <th>4</th>\n",
       "      <td>0</td>\n",
       "      <td>3</td>\n",
       "      <td>Allen, Mr. William Henry</td>\n",
       "      <td>male</td>\n",
       "      <td>35.0</td>\n",
       "      <td>0</td>\n",
       "      <td>0</td>\n",
       "      <td>373450</td>\n",
       "      <td>8.0500</td>\n",
       "      <td>NaN</td>\n",
       "      <td>S</td>\n",
       "    </tr>\n",
       "  </tbody>\n",
       "</table>\n",
       "</div>"
      ],
      "text/plain": [
       "   Survived  Pclass                                               Name  \\\n",
       "0         0       3                            Braund, Mr. Owen Harris   \n",
       "1         1       1  Cumings, Mrs. John Bradley (Florence Briggs Th...   \n",
       "2         1       3                             Heikkinen, Miss. Laina   \n",
       "3         1       1       Futrelle, Mrs. Jacques Heath (Lily May Peel)   \n",
       "4         0       3                           Allen, Mr. William Henry   \n",
       "\n",
       "      Sex   Age  SibSp  Parch            Ticket     Fare Cabin Embarked  \n",
       "0    male  22.0      1      0         A/5 21171   7.2500   NaN        S  \n",
       "1  female  38.0      1      0          PC 17599  71.2833   C85        C  \n",
       "2  female  26.0      0      0  STON/O2. 3101282   7.9250   NaN        S  \n",
       "3  female  35.0      1      0            113803  53.1000  C123        S  \n",
       "4    male  35.0      0      0            373450   8.0500   NaN        S  "
      ]
     },
     "execution_count": 5,
     "metadata": {},
     "output_type": "execute_result"
    }
   ],
   "source": [
    "sml.train.head()"
   ]
  },
  {
   "cell_type": "markdown",
   "metadata": {},
   "source": [
    "## Feature Correlations\n",
    "\n",
    "You can quickly check feature correlations using a plot. Learn how to interpret this plot at https://speedml.com/plot-correlation-of-features/ "
   ]
  },
  {
   "cell_type": "code",
   "execution_count": 6,
   "metadata": {
    "ExecuteTime": {
     "end_time": "2017-05-16T11:30:17.047929",
     "start_time": "2017-05-16T11:30:16.444715"
    }
   },
   "outputs": [
    {
     "data": {
      "image/png": "[encoded data removed]",
      "text/plain": [
       "<matplotlib.figure.Figure at 0x10cfb9a20>"
      ]
     },
     "metadata": {},
     "output_type": "display_data"
    }
   ],
   "source": [
    "sml.plot.correlate()"
   ]
  },
  {
   "cell_type": "markdown",
   "metadata": {},
   "source": [
    "## Outliers Detection and Fix\n",
    "\n",
    "We can use distributions to understand skew (left/right) for determining outliers."
   ]
  },
  {
   "cell_type": "code",
   "execution_count": 7,
   "metadata": {
    "ExecuteTime": {
     "end_time": "2017-05-16T11:30:18.145472",
     "start_time": "2017-05-16T11:30:17.049768"
    }
   },
   "outputs": [
    {
     "data": {
      "text/plain": [
       "<matplotlib.figure.Figure at 0x107467550>"
      ]
     },
     "metadata": {},
     "output_type": "display_data"
    },
    {
     "data": {
      "image/png": "[encoded data removed]",
      "text/plain": [
       "<matplotlib.figure.Figure at 0x10d1d2fd0>"
      ]
     },
     "metadata": {},
     "output_type": "display_data"
    }
   ],
   "source": [
    "sml.plot.distribute()"
   ]
  },
  {
   "cell_type": "markdown",
   "metadata": {},
   "source": [
    "Continuous or high-cardinality numerical features are better plotted using scatter plot for determining outliers.\n",
    "\n",
    "We do not expect outliers in case of Age feature as the distribution plot is fairly close to normal (rising in the middle of x-axis and falling on either sides evenly)."
   ]
  },
  {
   "cell_type": "code",
   "execution_count": 8,
   "metadata": {
    "ExecuteTime": {
     "end_time": "2017-05-16T11:30:18.571694",
     "start_time": "2017-05-16T11:30:18.149964"
    }
   },
   "outputs": [
    {
     "data": {
      "image/png": "[encoded data removed]",
      "text/plain": [
       "<matplotlib.figure.Figure at 0x106ed3b70>"
      ]
     },
     "metadata": {},
     "output_type": "display_data"
    }
   ],
   "source": [
    "sml.plot.continuous('Age')"
   ]
  },
  {
   "cell_type": "markdown",
   "metadata": {},
   "source": [
    "The method clearly shows some outliers in case of Fare feature. This coincides with our observation from the distribution plot for the Fare feature which is skewed towards left."
   ]
  },
  {
   "cell_type": "code",
   "execution_count": 9,
   "metadata": {
    "ExecuteTime": {
     "end_time": "2017-05-16T11:30:18.868911",
     "start_time": "2017-05-16T11:30:18.574499"
    }
   },
   "outputs": [
    {
     "data": {
      "image/png": "[encoded data removed]",
      "text/plain": [
       "<matplotlib.figure.Figure at 0x106e95208>"
      ]
     },
     "metadata": {},
     "output_type": "display_data"
    }
   ],
   "source": [
    "sml.plot.continuous('Fare')"
   ]
  },
  {
   "cell_type": "markdown",
   "metadata": {},
   "source": [
    "To correct the outliers we fix only values in upper range of the 99th percentile. As the results show these constitute around 1% of overall samples."
   ]
  },
  {
   "cell_type": "code",
   "execution_count": 10,
   "metadata": {
    "ExecuteTime": {
     "end_time": "2017-05-16T11:30:18.889148",
     "start_time": "2017-05-16T11:30:18.871825"
    }
   },
   "outputs": [
    {
     "data": {
      "text/plain": [
       "'Fixed 9 or 1.01% upper outliers. '"
      ]
     },
     "execution_count": 10,
     "metadata": {},
     "output_type": "execute_result"
    }
   ],
   "source": [
    "sml.feature.outliers('Fare', upper=99)"
   ]
  },
  {
   "cell_type": "markdown",
   "metadata": {},
   "source": [
    "While we impact only a few samples, the outliers fix is fairly significant as shown by the same plot after the fix."
   ]
  },
  {
   "cell_type": "code",
   "execution_count": 11,
   "metadata": {
    "ExecuteTime": {
     "end_time": "2017-05-16T11:30:19.169028",
     "start_time": "2017-05-16T11:30:18.891249"
    }
   },
   "outputs": [
    {
     "data": {
      "image/png": "[encoded data removed]",
      "text/plain": [
       "<matplotlib.figure.Figure at 0x10cfe4320>"
      ]
     },
     "metadata": {},
     "output_type": "display_data"
    }
   ],
   "source": [
    "sml.plot.continuous('Fare')"
   ]
  },
  {
   "cell_type": "markdown",
   "metadata": {},
   "source": [
    "We throw-in another plot into the mix just to understand how the remaining (potential) outliers are spread across when correlating with seemingly related features. We know that the passenger class and fare paid may be significantly correlated. As the plot points in upper range mostly stick to Pclass=1 we can safely assume no further fixing is required for the Fare feature."
   ]
  },
  {
   "cell_type": "code",
   "execution_count": 12,
   "metadata": {
    "ExecuteTime": {
     "end_time": "2017-05-16T11:30:19.573606",
     "start_time": "2017-05-16T11:30:19.171302"
    }
   },
   "outputs": [
    {
     "data": {
      "image/png": "[encoded data removed]",
      "text/plain": [
       "<matplotlib.figure.Figure at 0x10d8a7940>"
      ]
     },
     "metadata": {},
     "output_type": "display_data"
    }
   ],
   "source": [
    "sml.plot.strip('Pclass', 'Fare')"
   ]
  },
  {
   "cell_type": "code",
   "execution_count": 13,
   "metadata": {
    "ExecuteTime": {
     "end_time": "2017-05-16T11:30:20.371842",
     "start_time": "2017-05-16T11:30:19.575895"
    }
   },
   "outputs": [
    {
     "data": {
      "image/png": "[encoded data removed]",
      "text/plain": [
       "<matplotlib.figure.Figure at 0x10cfb9550>"
      ]
     },
     "metadata": {},
     "output_type": "display_data"
    },
    {
     "name": "stdout",
     "output_type": "stream",
     "text": [
      "Fixed 7 or 0.79% upper outliers. \n"
     ]
    },
    {
     "data": {
      "image/png": "[encoded data removed]",
      "text/plain": [
       "<matplotlib.figure.Figure at 0x10d8b63c8>"
      ]
     },
     "metadata": {},
     "output_type": "display_data"
    },
    {
     "data": {
      "image/png": "[encoded data removed]",
      "text/plain": [
       "<matplotlib.figure.Figure at 0x10d9f2940>"
      ]
     },
     "metadata": {},
     "output_type": "display_data"
    }
   ],
   "source": [
    "sml.plot.ordinal('SibSp')\n",
    "print(sml.feature.outliers('SibSp', upper=99))\n",
    "sml.plot.ordinal('SibSp')\n",
    "sml.plot.strip('SibSp', 'Age')"
   ]
  },
  {
   "cell_type": "markdown",
   "metadata": {},
   "source": [
    "## Feature Engineering For High-Cardinality\n",
    "\n",
    "High-cardinality features like Ticket and Age are candidates for feature engineering. We use the density method to create a new feature based on Age and Ticket and drop the Ticket feature in turn. This simple iteration improves our model significantly and helps us jump 100s of positions on the Kaggle leaderboard."
   ]
  },
  {
   "cell_type": "code",
   "execution_count": 14,
   "metadata": {
    "ExecuteTime": {
     "end_time": "2017-05-16T11:30:20.418823",
     "start_time": "2017-05-16T11:30:20.374357"
    }
   },
   "outputs": [
    {
     "data": {
      "text/html": [
       "<div>\n",
       "<style>\n",
       "    .dataframe thead tr:only-child th {\n",
       "        text-align: right;\n",
       "    }\n",
       "\n",
       "    .dataframe thead th {\n",
       "        text-align: left;\n",
       "    }\n",
       "\n",
       "    .dataframe tbody tr th {\n",
       "        vertical-align: top;\n",
       "    }\n",
       "</style>\n",
       "<table border=\"1\" class=\"dataframe\">\n",
       "  <thead>\n",
       "    <tr style=\"text-align: right;\">\n",
       "      <th></th>\n",
       "      <th>Results</th>\n",
       "      <th>Observations</th>\n",
       "    </tr>\n",
       "  </thead>\n",
       "  <tbody>\n",
       "    <tr>\n",
       "      <th>Speedml Release</th>\n",
       "      <td>v0.9.3</td>\n",
       "      <td>Visit https://speedml.com for release notes.</td>\n",
       "    </tr>\n",
       "    <tr>\n",
       "      <th>Nulls</th>\n",
       "      <td>1014</td>\n",
       "      <td>Use feature.impute.</td>\n",
       "    </tr>\n",
       "    <tr>\n",
       "      <th>Outliers Upper</th>\n",
       "      <td>[Fare]</td>\n",
       "      <td>Positive skew (&gt; 3). Use feature.outliers(upper).</td>\n",
       "    </tr>\n",
       "    <tr>\n",
       "      <th>Shape</th>\n",
       "      <td>train (891, 11) | test (418, 10)</td>\n",
       "      <td></td>\n",
       "    </tr>\n",
       "    <tr>\n",
       "      <th>Numerical Ratio</th>\n",
       "      <td>54%</td>\n",
       "      <td>Aim for 100% numerical.</td>\n",
       "    </tr>\n",
       "    <tr>\n",
       "      <th>Numerical High-cardinality</th>\n",
       "      <td>[Age, Fare]</td>\n",
       "      <td>(&gt;10) categories. Use feature.density</td>\n",
       "    </tr>\n",
       "    <tr>\n",
       "      <th>Numerical Categorical</th>\n",
       "      <td>[Survived, Pclass, SibSp, Parch]</td>\n",
       "      <td>Use plot.ordinal.</td>\n",
       "    </tr>\n",
       "    <tr>\n",
       "      <th>Text High-cardinality</th>\n",
       "      <td>[Cabin, Ticket]</td>\n",
       "      <td>(&gt;10) categories. Use feature.labels.</td>\n",
       "    </tr>\n",
       "    <tr>\n",
       "      <th>Text Categorical</th>\n",
       "      <td>[Embarked, Sex]</td>\n",
       "      <td>Use feature.labels or feature.mapping.</td>\n",
       "    </tr>\n",
       "    <tr>\n",
       "      <th>Text Unique</th>\n",
       "      <td>[Name]</td>\n",
       "      <td>~80% unique. Use feature.extract or feature.drop.</td>\n",
       "    </tr>\n",
       "    <tr>\n",
       "      <th>Target Analysis (Survived)</th>\n",
       "      <td>Model ready.</td>\n",
       "      <td>Use classification models.</td>\n",
       "    </tr>\n",
       "  </tbody>\n",
       "</table>\n",
       "</div>"
      ],
      "text/plain": [
       "                                                     Results  \\\n",
       "Speedml Release                                       v0.9.3   \n",
       "Nulls                                                   1014   \n",
       "Outliers Upper                                        [Fare]   \n",
       "Shape                       train (891, 11) | test (418, 10)   \n",
       "Numerical Ratio                                          54%   \n",
       "Numerical High-cardinality                       [Age, Fare]   \n",
       "Numerical Categorical       [Survived, Pclass, SibSp, Parch]   \n",
       "Text High-cardinality                        [Cabin, Ticket]   \n",
       "Text Categorical                             [Embarked, Sex]   \n",
       "Text Unique                                           [Name]   \n",
       "Target Analysis (Survived)                      Model ready.   \n",
       "\n",
       "                                                                 Observations  \n",
       "Speedml Release                  Visit https://speedml.com for release notes.  \n",
       "Nulls                                                     Use feature.impute.  \n",
       "Outliers Upper              Positive skew (> 3). Use feature.outliers(upper).  \n",
       "Shape                                                                          \n",
       "Numerical Ratio                                       Aim for 100% numerical.  \n",
       "Numerical High-cardinality              (>10) categories. Use feature.density  \n",
       "Numerical Categorical                                       Use plot.ordinal.  \n",
       "Text High-cardinality                   (>10) categories. Use feature.labels.  \n",
       "Text Categorical                       Use feature.labels or feature.mapping.  \n",
       "Text Unique                 ~80% unique. Use feature.extract or feature.drop.  \n",
       "Target Analysis (Survived)                         Use classification models.  "
      ]
     },
     "execution_count": 14,
     "metadata": {},
     "output_type": "execute_result"
    }
   ],
   "source": [
    "sml.eda()"
   ]
  },
  {
   "cell_type": "code",
   "execution_count": 15,
   "metadata": {
    "ExecuteTime": {
     "end_time": "2017-05-16T11:30:20.608751",
     "start_time": "2017-05-16T11:30:20.421326"
    }
   },
   "outputs": [
    {
     "data": {
      "text/html": [
       "<div>\n",
       "<style>\n",
       "    .dataframe thead tr:only-child th {\n",
       "        text-align: right;\n",
       "    }\n",
       "\n",
       "    .dataframe thead th {\n",
       "        text-align: left;\n",
       "    }\n",
       "\n",
       "    .dataframe tbody tr th {\n",
       "        vertical-align: top;\n",
       "    }\n",
       "</style>\n",
       "<table border=\"1\" class=\"dataframe\">\n",
       "  <thead>\n",
       "    <tr style=\"text-align: right;\">\n",
       "      <th></th>\n",
       "      <th>Age</th>\n",
       "      <th>Age_density</th>\n",
       "    </tr>\n",
       "  </thead>\n",
       "  <tbody>\n",
       "    <tr>\n",
       "      <th>0</th>\n",
       "      <td>22.0</td>\n",
       "      <td>27</td>\n",
       "    </tr>\n",
       "    <tr>\n",
       "      <th>1</th>\n",
       "      <td>38.0</td>\n",
       "      <td>11</td>\n",
       "    </tr>\n",
       "    <tr>\n",
       "      <th>2</th>\n",
       "      <td>26.0</td>\n",
       "      <td>18</td>\n",
       "    </tr>\n",
       "    <tr>\n",
       "      <th>3</th>\n",
       "      <td>35.0</td>\n",
       "      <td>18</td>\n",
       "    </tr>\n",
       "    <tr>\n",
       "      <th>4</th>\n",
       "      <td>35.0</td>\n",
       "      <td>18</td>\n",
       "    </tr>\n",
       "  </tbody>\n",
       "</table>\n",
       "</div>"
      ],
      "text/plain": [
       "    Age  Age_density\n",
       "0  22.0           27\n",
       "1  38.0           11\n",
       "2  26.0           18\n",
       "3  35.0           18\n",
       "4  35.0           18"
      ]
     },
     "execution_count": 15,
     "metadata": {},
     "output_type": "execute_result"
    }
   ],
   "source": [
    "sml.feature.density('Age')\n",
    "sml.train[['Age', 'Age_density']].head()"
   ]
  },
  {
   "cell_type": "code",
   "execution_count": 16,
   "metadata": {
    "ExecuteTime": {
     "end_time": "2017-05-16T11:30:20.781179",
     "start_time": "2017-05-16T11:30:20.611452"
    }
   },
   "outputs": [
    {
     "data": {
      "text/html": [
       "<div>\n",
       "<style>\n",
       "    .dataframe thead tr:only-child th {\n",
       "        text-align: right;\n",
       "    }\n",
       "\n",
       "    .dataframe thead th {\n",
       "        text-align: left;\n",
       "    }\n",
       "\n",
       "    .dataframe tbody tr th {\n",
       "        vertical-align: top;\n",
       "    }\n",
       "</style>\n",
       "<table border=\"1\" class=\"dataframe\">\n",
       "  <thead>\n",
       "    <tr style=\"text-align: right;\">\n",
       "      <th></th>\n",
       "      <th>Ticket</th>\n",
       "      <th>Ticket_density</th>\n",
       "    </tr>\n",
       "  </thead>\n",
       "  <tbody>\n",
       "    <tr>\n",
       "      <th>0</th>\n",
       "      <td>A/5 21171</td>\n",
       "      <td>1</td>\n",
       "    </tr>\n",
       "    <tr>\n",
       "      <th>1</th>\n",
       "      <td>PC 17599</td>\n",
       "      <td>1</td>\n",
       "    </tr>\n",
       "    <tr>\n",
       "      <th>2</th>\n",
       "      <td>STON/O2. 3101282</td>\n",
       "      <td>1</td>\n",
       "    </tr>\n",
       "    <tr>\n",
       "      <th>3</th>\n",
       "      <td>113803</td>\n",
       "      <td>2</td>\n",
       "    </tr>\n",
       "    <tr>\n",
       "      <th>4</th>\n",
       "      <td>373450</td>\n",
       "      <td>1</td>\n",
       "    </tr>\n",
       "  </tbody>\n",
       "</table>\n",
       "</div>"
      ],
      "text/plain": [
       "             Ticket  Ticket_density\n",
       "0         A/5 21171               1\n",
       "1          PC 17599               1\n",
       "2  STON/O2. 3101282               1\n",
       "3            113803               2\n",
       "4            373450               1"
      ]
     },
     "execution_count": 16,
     "metadata": {},
     "output_type": "execute_result"
    }
   ],
   "source": [
    "sml.feature.density('Ticket')\n",
    "sml.train[['Ticket', 'Ticket_density']].head()"
   ]
  },
  {
   "cell_type": "code",
   "execution_count": 17,
   "metadata": {
    "ExecuteTime": {
     "end_time": "2017-05-16T11:30:20.794339",
     "start_time": "2017-05-16T11:30:20.783356"
    }
   },
   "outputs": [
    {
     "data": {
      "text/plain": [
       "'Dropped 1 features with 12 features available.'"
      ]
     },
     "execution_count": 17,
     "metadata": {},
     "output_type": "execute_result"
    }
   ],
   "source": [
    "sml.feature.drop(['Ticket'])"
   ]
  },
  {
   "cell_type": "markdown",
   "metadata": {},
   "source": [
    "## Extracting New Features\n",
    "\n",
    "We will now extract new features Deck from Cabin and FamilySize from Parch and SibSp."
   ]
  },
  {
   "cell_type": "code",
   "execution_count": 18,
   "metadata": {
    "ExecuteTime": {
     "end_time": "2017-05-16T11:30:20.827322",
     "start_time": "2017-05-16T11:30:20.797061"
    }
   },
   "outputs": [
    {
     "data": {
      "text/html": [
       "<div>\n",
       "<style>\n",
       "    .dataframe thead tr:only-child th {\n",
       "        text-align: right;\n",
       "    }\n",
       "\n",
       "    .dataframe thead th {\n",
       "        text-align: left;\n",
       "    }\n",
       "\n",
       "    .dataframe tbody tr th {\n",
       "        vertical-align: top;\n",
       "    }\n",
       "</style>\n",
       "<table border=\"1\" class=\"dataframe\">\n",
       "  <thead>\n",
       "    <tr style=\"text-align: right;\">\n",
       "      <th>SibSp</th>\n",
       "      <th>0.0</th>\n",
       "      <th>1.0</th>\n",
       "      <th>2.0</th>\n",
       "      <th>3.0</th>\n",
       "      <th>4.0</th>\n",
       "      <th>5.0</th>\n",
       "    </tr>\n",
       "    <tr>\n",
       "      <th>Survived</th>\n",
       "      <th></th>\n",
       "      <th></th>\n",
       "      <th></th>\n",
       "      <th></th>\n",
       "      <th></th>\n",
       "      <th></th>\n",
       "    </tr>\n",
       "  </thead>\n",
       "  <tbody>\n",
       "    <tr>\n",
       "      <th>0</th>\n",
       "      <td>398</td>\n",
       "      <td>97</td>\n",
       "      <td>15</td>\n",
       "      <td>12</td>\n",
       "      <td>15</td>\n",
       "      <td>12</td>\n",
       "    </tr>\n",
       "    <tr>\n",
       "      <th>1</th>\n",
       "      <td>210</td>\n",
       "      <td>112</td>\n",
       "      <td>13</td>\n",
       "      <td>4</td>\n",
       "      <td>3</td>\n",
       "      <td>0</td>\n",
       "    </tr>\n",
       "  </tbody>\n",
       "</table>\n",
       "</div>"
      ],
      "text/plain": [
       "SibSp     0.0  1.0  2.0  3.0  4.0  5.0\n",
       "Survived                              \n",
       "0         398   97   15   12   15   12\n",
       "1         210  112   13    4    3    0"
      ]
     },
     "execution_count": 18,
     "metadata": {},
     "output_type": "execute_result"
    }
   ],
   "source": [
    "sml.plot.crosstab('Survived', 'SibSp')"
   ]
  },
  {
   "cell_type": "code",
   "execution_count": 19,
   "metadata": {
    "ExecuteTime": {
     "end_time": "2017-05-16T11:30:20.859882",
     "start_time": "2017-05-16T11:30:20.829273"
    }
   },
   "outputs": [
    {
     "data": {
      "text/html": [
       "<div>\n",
       "<style>\n",
       "    .dataframe thead tr:only-child th {\n",
       "        text-align: right;\n",
       "    }\n",
       "\n",
       "    .dataframe thead th {\n",
       "        text-align: left;\n",
       "    }\n",
       "\n",
       "    .dataframe tbody tr th {\n",
       "        vertical-align: top;\n",
       "    }\n",
       "</style>\n",
       "<table border=\"1\" class=\"dataframe\">\n",
       "  <thead>\n",
       "    <tr style=\"text-align: right;\">\n",
       "      <th>Parch</th>\n",
       "      <th>0</th>\n",
       "      <th>1</th>\n",
       "      <th>2</th>\n",
       "      <th>3</th>\n",
       "      <th>4</th>\n",
       "      <th>5</th>\n",
       "      <th>6</th>\n",
       "    </tr>\n",
       "    <tr>\n",
       "      <th>Survived</th>\n",
       "      <th></th>\n",
       "      <th></th>\n",
       "      <th></th>\n",
       "      <th></th>\n",
       "      <th></th>\n",
       "      <th></th>\n",
       "      <th></th>\n",
       "    </tr>\n",
       "  </thead>\n",
       "  <tbody>\n",
       "    <tr>\n",
       "      <th>0</th>\n",
       "      <td>445</td>\n",
       "      <td>53</td>\n",
       "      <td>40</td>\n",
       "      <td>2</td>\n",
       "      <td>4</td>\n",
       "      <td>4</td>\n",
       "      <td>1</td>\n",
       "    </tr>\n",
       "    <tr>\n",
       "      <th>1</th>\n",
       "      <td>233</td>\n",
       "      <td>65</td>\n",
       "      <td>40</td>\n",
       "      <td>3</td>\n",
       "      <td>0</td>\n",
       "      <td>1</td>\n",
       "      <td>0</td>\n",
       "    </tr>\n",
       "  </tbody>\n",
       "</table>\n",
       "</div>"
      ],
      "text/plain": [
       "Parch       0   1   2  3  4  5  6\n",
       "Survived                         \n",
       "0         445  53  40  2  4  4  1\n",
       "1         233  65  40  3  0  1  0"
      ]
     },
     "execution_count": 19,
     "metadata": {},
     "output_type": "execute_result"
    }
   ],
   "source": [
    "sml.plot.crosstab('Survived', 'Parch')"
   ]
  },
  {
   "cell_type": "code",
   "execution_count": 20,
   "metadata": {
    "ExecuteTime": {
     "end_time": "2017-05-16T11:30:20.896571",
     "start_time": "2017-05-16T11:30:20.861707"
    }
   },
   "outputs": [
    {
     "data": {
      "text/plain": [
       "'Filled 1014 null values across test and train datasets.'"
      ]
     },
     "execution_count": 20,
     "metadata": {},
     "output_type": "execute_result"
    },
    {
     "data": {
      "text/plain": [
       "'Dropped 1 features with 12 features available.'"
      ]
     },
     "execution_count": 20,
     "metadata": {},
     "output_type": "execute_result"
    }
   ],
   "source": [
    "sml.feature.fillna(a='Cabin', new='Z')\n",
    "sml.feature.extract(new='Deck', a='Cabin', regex='([A-Z]){1}')\n",
    "sml.feature.drop(['Cabin'])\n",
    "sml.feature.mapping('Sex', {'male': 0, 'female': 1})\n",
    "sml.feature.sum(new='FamilySize', a='Parch', b='SibSp')\n",
    "sml.feature.add('FamilySize', 1)"
   ]
  },
  {
   "cell_type": "code",
   "execution_count": 21,
   "metadata": {
    "ExecuteTime": {
     "end_time": "2017-05-16T11:30:21.554551",
     "start_time": "2017-05-16T11:30:20.898659"
    }
   },
   "outputs": [
    {
     "data": {
      "image/png": "[encoded data removed]",
      "text/plain": [
       "<matplotlib.figure.Figure at 0x10dc08400>"
      ]
     },
     "metadata": {},
     "output_type": "display_data"
    }
   ],
   "source": [
    "sml.plot.bar('FamilySize', 'Survived')"
   ]
  },
  {
   "cell_type": "code",
   "execution_count": 22,
   "metadata": {
    "ExecuteTime": {
     "end_time": "2017-05-16T11:30:22.178035",
     "start_time": "2017-05-16T11:30:21.557229"
    }
   },
   "outputs": [
    {
     "data": {
      "image/png": "[encoded data removed]",
      "text/plain": [
       "<matplotlib.figure.Figure at 0x10dbfb320>"
      ]
     },
     "metadata": {},
     "output_type": "display_data"
    }
   ],
   "source": [
    "sml.plot.bar('Deck', 'Survived')"
   ]
  },
  {
   "cell_type": "code",
   "execution_count": 23,
   "metadata": {
    "ExecuteTime": {
     "end_time": "2017-05-16T11:30:22.191176",
     "start_time": "2017-05-16T11:30:22.180084"
    }
   },
   "outputs": [
    {
     "data": {
      "text/plain": [
       "'Dropped 2 features with 11 features available.'"
      ]
     },
     "execution_count": 23,
     "metadata": {},
     "output_type": "execute_result"
    }
   ],
   "source": [
    "sml.feature.drop(['Parch', 'SibSp'])"
   ]
  },
  {
   "cell_type": "markdown",
   "metadata": {},
   "source": [
    "Here is a single line of code to impute all empty features values (numerical and text) with numerical median or most common text value."
   ]
  },
  {
   "cell_type": "code",
   "execution_count": 24,
   "metadata": {
    "ExecuteTime": {
     "end_time": "2017-05-16T11:30:22.243316",
     "start_time": "2017-05-16T11:30:22.194358"
    }
   },
   "outputs": [
    {
     "data": {
      "text/plain": [
       "'Imputed 179 empty values to 0.'"
      ]
     },
     "execution_count": 24,
     "metadata": {},
     "output_type": "execute_result"
    }
   ],
   "source": [
    "sml.feature.impute()"
   ]
  },
  {
   "cell_type": "code",
   "execution_count": 25,
   "metadata": {
    "ExecuteTime": {
     "end_time": "2017-05-16T11:30:22.266913",
     "start_time": "2017-05-16T11:30:22.245950"
    }
   },
   "outputs": [
    {
     "name": "stdout",
     "output_type": "stream",
     "text": [
      "<class 'pandas.core.frame.DataFrame'>\n",
      "Int64Index: 891 entries, 0 to 890\n",
      "Data columns (total 11 columns):\n",
      "Age               891 non-null float64\n",
      "Age_density       891 non-null int64\n",
      "Deck              891 non-null object\n",
      "Embarked          891 non-null object\n",
      "FamilySize        891 non-null float64\n",
      "Fare              891 non-null float64\n",
      "Name              891 non-null object\n",
      "Pclass            891 non-null int64\n",
      "Sex               891 non-null int64\n",
      "Survived          891 non-null int64\n",
      "Ticket_density    891 non-null int64\n",
      "dtypes: float64(3), int64(5), object(3)\n",
      "memory usage: 83.5+ KB\n",
      "----------------------------------------\n",
      "<class 'pandas.core.frame.DataFrame'>\n",
      "Int64Index: 418 entries, 0 to 417\n",
      "Data columns (total 10 columns):\n",
      "Age               418 non-null float64\n",
      "Age_density       418 non-null int64\n",
      "Deck              418 non-null object\n",
      "Embarked          418 non-null object\n",
      "FamilySize        418 non-null float64\n",
      "Fare              418 non-null float64\n",
      "Name              418 non-null object\n",
      "Pclass            418 non-null int64\n",
      "Sex               418 non-null int64\n",
      "Ticket_density    418 non-null int64\n",
      "dtypes: float64(3), int64(4), object(3)\n",
      "memory usage: 35.9+ KB\n"
     ]
    }
   ],
   "source": [
    "sml.info()"
   ]
  },
  {
   "cell_type": "code",
   "execution_count": 26,
   "metadata": {
    "ExecuteTime": {
     "end_time": "2017-05-16T11:30:22.658546",
     "start_time": "2017-05-16T11:30:22.269274"
    }
   },
   "outputs": [
    {
     "data": {
      "image/png": "[encoded data removed]",
      "text/plain": [
       "<matplotlib.figure.Figure at 0x10de77390>"
      ]
     },
     "metadata": {},
     "output_type": "display_data"
    }
   ],
   "source": [
    "sml.plot.importance()"
   ]
  },
  {
   "cell_type": "code",
   "execution_count": 27,
   "metadata": {
    "ExecuteTime": {
     "end_time": "2017-05-16T11:30:22.687750",
     "start_time": "2017-05-16T11:30:22.660823"
    }
   },
   "outputs": [
    {
     "data": {
      "text/html": [
       "<div>\n",
       "<style>\n",
       "    .dataframe thead tr:only-child th {\n",
       "        text-align: right;\n",
       "    }\n",
       "\n",
       "    .dataframe thead th {\n",
       "        text-align: left;\n",
       "    }\n",
       "\n",
       "    .dataframe tbody tr th {\n",
       "        vertical-align: top;\n",
       "    }\n",
       "</style>\n",
       "<table border=\"1\" class=\"dataframe\">\n",
       "  <thead>\n",
       "    <tr style=\"text-align: right;\">\n",
       "      <th></th>\n",
       "      <th>Age</th>\n",
       "      <th>Age_density</th>\n",
       "      <th>Deck</th>\n",
       "      <th>Embarked</th>\n",
       "      <th>FamilySize</th>\n",
       "      <th>Fare</th>\n",
       "      <th>Name</th>\n",
       "      <th>Pclass</th>\n",
       "      <th>Sex</th>\n",
       "      <th>Survived</th>\n",
       "      <th>Ticket_density</th>\n",
       "    </tr>\n",
       "  </thead>\n",
       "  <tbody>\n",
       "    <tr>\n",
       "      <th>0</th>\n",
       "      <td>22.0</td>\n",
       "      <td>27</td>\n",
       "      <td>Z</td>\n",
       "      <td>S</td>\n",
       "      <td>2.0</td>\n",
       "      <td>7.2500</td>\n",
       "      <td>Braund, Mr. Owen Harris</td>\n",
       "      <td>3</td>\n",
       "      <td>0</td>\n",
       "      <td>0</td>\n",
       "      <td>1</td>\n",
       "    </tr>\n",
       "    <tr>\n",
       "      <th>1</th>\n",
       "      <td>38.0</td>\n",
       "      <td>11</td>\n",
       "      <td>C</td>\n",
       "      <td>C</td>\n",
       "      <td>2.0</td>\n",
       "      <td>71.2833</td>\n",
       "      <td>Cumings, Mrs. John Bradley (Florence Briggs Th...</td>\n",
       "      <td>1</td>\n",
       "      <td>1</td>\n",
       "      <td>1</td>\n",
       "      <td>1</td>\n",
       "    </tr>\n",
       "    <tr>\n",
       "      <th>2</th>\n",
       "      <td>26.0</td>\n",
       "      <td>18</td>\n",
       "      <td>Z</td>\n",
       "      <td>S</td>\n",
       "      <td>1.0</td>\n",
       "      <td>7.9250</td>\n",
       "      <td>Heikkinen, Miss. Laina</td>\n",
       "      <td>3</td>\n",
       "      <td>1</td>\n",
       "      <td>1</td>\n",
       "      <td>1</td>\n",
       "    </tr>\n",
       "    <tr>\n",
       "      <th>3</th>\n",
       "      <td>35.0</td>\n",
       "      <td>18</td>\n",
       "      <td>C</td>\n",
       "      <td>S</td>\n",
       "      <td>2.0</td>\n",
       "      <td>53.1000</td>\n",
       "      <td>Futrelle, Mrs. Jacques Heath (Lily May Peel)</td>\n",
       "      <td>1</td>\n",
       "      <td>1</td>\n",
       "      <td>1</td>\n",
       "      <td>2</td>\n",
       "    </tr>\n",
       "    <tr>\n",
       "      <th>4</th>\n",
       "      <td>35.0</td>\n",
       "      <td>18</td>\n",
       "      <td>Z</td>\n",
       "      <td>S</td>\n",
       "      <td>1.0</td>\n",
       "      <td>8.0500</td>\n",
       "      <td>Allen, Mr. William Henry</td>\n",
       "      <td>3</td>\n",
       "      <td>0</td>\n",
       "      <td>0</td>\n",
       "      <td>1</td>\n",
       "    </tr>\n",
       "  </tbody>\n",
       "</table>\n",
       "</div>"
      ],
      "text/plain": [
       "    Age  Age_density Deck Embarked  FamilySize     Fare  \\\n",
       "0  22.0           27    Z        S         2.0   7.2500   \n",
       "1  38.0           11    C        C         2.0  71.2833   \n",
       "2  26.0           18    Z        S         1.0   7.9250   \n",
       "3  35.0           18    C        S         2.0  53.1000   \n",
       "4  35.0           18    Z        S         1.0   8.0500   \n",
       "\n",
       "                                                Name  Pclass  Sex  Survived  \\\n",
       "0                            Braund, Mr. Owen Harris       3    0         0   \n",
       "1  Cumings, Mrs. John Bradley (Florence Briggs Th...       1    1         1   \n",
       "2                             Heikkinen, Miss. Laina       3    1         1   \n",
       "3       Futrelle, Mrs. Jacques Heath (Lily May Peel)       1    1         1   \n",
       "4                           Allen, Mr. William Henry       3    0         0   \n",
       "\n",
       "   Ticket_density  \n",
       "0               1  \n",
       "1               1  \n",
       "2               1  \n",
       "3               2  \n",
       "4               1  "
      ]
     },
     "execution_count": 27,
     "metadata": {},
     "output_type": "execute_result"
    }
   ],
   "source": [
    "sml.train.head()"
   ]
  },
  {
   "cell_type": "code",
   "execution_count": 28,
   "metadata": {
    "ExecuteTime": {
     "end_time": "2017-05-16T11:30:22.786595",
     "start_time": "2017-05-16T11:30:22.689733"
    }
   },
   "outputs": [
    {
     "data": {
      "text/html": [
       "<div>\n",
       "<style>\n",
       "    .dataframe thead tr:only-child th {\n",
       "        text-align: right;\n",
       "    }\n",
       "\n",
       "    .dataframe thead th {\n",
       "        text-align: left;\n",
       "    }\n",
       "\n",
       "    .dataframe tbody tr th {\n",
       "        vertical-align: top;\n",
       "    }\n",
       "</style>\n",
       "<table border=\"1\" class=\"dataframe\">\n",
       "  <thead>\n",
       "    <tr style=\"text-align: right;\">\n",
       "      <th>Sex</th>\n",
       "      <th>0</th>\n",
       "      <th>1</th>\n",
       "    </tr>\n",
       "    <tr>\n",
       "      <th>Title</th>\n",
       "      <th></th>\n",
       "      <th></th>\n",
       "    </tr>\n",
       "  </thead>\n",
       "  <tbody>\n",
       "    <tr>\n",
       "      <th>Capt</th>\n",
       "      <td>1</td>\n",
       "      <td>0</td>\n",
       "    </tr>\n",
       "    <tr>\n",
       "      <th>Col</th>\n",
       "      <td>2</td>\n",
       "      <td>0</td>\n",
       "    </tr>\n",
       "    <tr>\n",
       "      <th>Countess</th>\n",
       "      <td>0</td>\n",
       "      <td>1</td>\n",
       "    </tr>\n",
       "    <tr>\n",
       "      <th>Don</th>\n",
       "      <td>1</td>\n",
       "      <td>0</td>\n",
       "    </tr>\n",
       "    <tr>\n",
       "      <th>Dr</th>\n",
       "      <td>6</td>\n",
       "      <td>1</td>\n",
       "    </tr>\n",
       "    <tr>\n",
       "      <th>Jonkheer</th>\n",
       "      <td>1</td>\n",
       "      <td>0</td>\n",
       "    </tr>\n",
       "    <tr>\n",
       "      <th>Lady</th>\n",
       "      <td>0</td>\n",
       "      <td>1</td>\n",
       "    </tr>\n",
       "    <tr>\n",
       "      <th>Major</th>\n",
       "      <td>2</td>\n",
       "      <td>0</td>\n",
       "    </tr>\n",
       "    <tr>\n",
       "      <th>Master</th>\n",
       "      <td>40</td>\n",
       "      <td>0</td>\n",
       "    </tr>\n",
       "    <tr>\n",
       "      <th>Miss</th>\n",
       "      <td>0</td>\n",
       "      <td>182</td>\n",
       "    </tr>\n",
       "    <tr>\n",
       "      <th>Mlle</th>\n",
       "      <td>0</td>\n",
       "      <td>2</td>\n",
       "    </tr>\n",
       "    <tr>\n",
       "      <th>Mme</th>\n",
       "      <td>0</td>\n",
       "      <td>1</td>\n",
       "    </tr>\n",
       "    <tr>\n",
       "      <th>Mr</th>\n",
       "      <td>517</td>\n",
       "      <td>0</td>\n",
       "    </tr>\n",
       "    <tr>\n",
       "      <th>Mrs</th>\n",
       "      <td>0</td>\n",
       "      <td>125</td>\n",
       "    </tr>\n",
       "    <tr>\n",
       "      <th>Ms</th>\n",
       "      <td>0</td>\n",
       "      <td>1</td>\n",
       "    </tr>\n",
       "    <tr>\n",
       "      <th>Rev</th>\n",
       "      <td>6</td>\n",
       "      <td>0</td>\n",
       "    </tr>\n",
       "    <tr>\n",
       "      <th>Sir</th>\n",
       "      <td>1</td>\n",
       "      <td>0</td>\n",
       "    </tr>\n",
       "  </tbody>\n",
       "</table>\n",
       "</div>"
      ],
      "text/plain": [
       "Sex         0    1\n",
       "Title             \n",
       "Capt        1    0\n",
       "Col         2    0\n",
       "Countess    0    1\n",
       "Don         1    0\n",
       "Dr          6    1\n",
       "Jonkheer    1    0\n",
       "Lady        0    1\n",
       "Major       2    0\n",
       "Master     40    0\n",
       "Miss        0  182\n",
       "Mlle        0    2\n",
       "Mme         0    1\n",
       "Mr        517    0\n",
       "Mrs         0  125\n",
       "Ms          0    1\n",
       "Rev         6    0\n",
       "Sir         1    0"
      ]
     },
     "execution_count": 28,
     "metadata": {},
     "output_type": "execute_result"
    }
   ],
   "source": [
    "sml.feature.extract(new='Title', a='Name', regex=' ([A-Za-z]+)\\.')\n",
    "sml.plot.crosstab('Title', 'Sex')"
   ]
  },
  {
   "cell_type": "code",
   "execution_count": 29,
   "metadata": {
    "ExecuteTime": {
     "end_time": "2017-05-16T11:30:22.824341",
     "start_time": "2017-05-16T11:30:22.789753"
    }
   },
   "outputs": [
    {
     "data": {
      "text/plain": [
       "'Replaced matching list of strings across train and test datasets.'"
      ]
     },
     "execution_count": 29,
     "metadata": {},
     "output_type": "execute_result"
    },
    {
     "data": {
      "text/plain": [
       "'Replaced 2 matching values across train and test datasets.'"
      ]
     },
     "execution_count": 29,
     "metadata": {},
     "output_type": "execute_result"
    },
    {
     "data": {
      "text/plain": [
       "'Replaced 2 matching values across train and test datasets.'"
      ]
     },
     "execution_count": 29,
     "metadata": {},
     "output_type": "execute_result"
    },
    {
     "data": {
      "text/plain": [
       "'Replaced 1 matching values across train and test datasets.'"
      ]
     },
     "execution_count": 29,
     "metadata": {},
     "output_type": "execute_result"
    }
   ],
   "source": [
    "sml.feature.replace(a='Title', match=['Lady', 'Countess','Capt', 'Col',\\\n",
    "'Don', 'Dr', 'Major', 'Rev', 'Sir', 'Jonkheer', 'Dona'], new='Rare')\n",
    "sml.feature.replace('Title', 'Mlle', 'Miss')\n",
    "sml.feature.replace('Title', 'Ms', 'Miss')\n",
    "sml.feature.replace('Title', 'Mme', 'Mrs')"
   ]
  },
  {
   "cell_type": "code",
   "execution_count": 30,
   "metadata": {
    "ExecuteTime": {
     "end_time": "2017-05-16T11:30:22.839513",
     "start_time": "2017-05-16T11:30:22.827661"
    }
   },
   "outputs": [
    {
     "data": {
      "text/html": [
       "<div>\n",
       "<style>\n",
       "    .dataframe thead tr:only-child th {\n",
       "        text-align: right;\n",
       "    }\n",
       "\n",
       "    .dataframe thead th {\n",
       "        text-align: left;\n",
       "    }\n",
       "\n",
       "    .dataframe tbody tr th {\n",
       "        vertical-align: top;\n",
       "    }\n",
       "</style>\n",
       "<table border=\"1\" class=\"dataframe\">\n",
       "  <thead>\n",
       "    <tr style=\"text-align: right;\">\n",
       "      <th></th>\n",
       "      <th>Name</th>\n",
       "      <th>Title</th>\n",
       "    </tr>\n",
       "  </thead>\n",
       "  <tbody>\n",
       "    <tr>\n",
       "      <th>0</th>\n",
       "      <td>Braund, Mr. Owen Harris</td>\n",
       "      <td>Mr</td>\n",
       "    </tr>\n",
       "    <tr>\n",
       "      <th>1</th>\n",
       "      <td>Cumings, Mrs. John Bradley (Florence Briggs Th...</td>\n",
       "      <td>Mrs</td>\n",
       "    </tr>\n",
       "    <tr>\n",
       "      <th>2</th>\n",
       "      <td>Heikkinen, Miss. Laina</td>\n",
       "      <td>Miss</td>\n",
       "    </tr>\n",
       "    <tr>\n",
       "      <th>3</th>\n",
       "      <td>Futrelle, Mrs. Jacques Heath (Lily May Peel)</td>\n",
       "      <td>Mrs</td>\n",
       "    </tr>\n",
       "    <tr>\n",
       "      <th>4</th>\n",
       "      <td>Allen, Mr. William Henry</td>\n",
       "      <td>Mr</td>\n",
       "    </tr>\n",
       "  </tbody>\n",
       "</table>\n",
       "</div>"
      ],
      "text/plain": [
       "                                                Name Title\n",
       "0                            Braund, Mr. Owen Harris    Mr\n",
       "1  Cumings, Mrs. John Bradley (Florence Briggs Th...   Mrs\n",
       "2                             Heikkinen, Miss. Laina  Miss\n",
       "3       Futrelle, Mrs. Jacques Heath (Lily May Peel)   Mrs\n",
       "4                           Allen, Mr. William Henry    Mr"
      ]
     },
     "execution_count": 30,
     "metadata": {},
     "output_type": "execute_result"
    }
   ],
   "source": [
    "sml.train[['Name', 'Title']].head()"
   ]
  },
  {
   "cell_type": "code",
   "execution_count": 31,
   "metadata": {
    "ExecuteTime": {
     "end_time": "2017-05-16T11:30:22.881495",
     "start_time": "2017-05-16T11:30:22.841764"
    }
   },
   "outputs": [
    {
     "data": {
      "text/plain": [
       "'Dropped 1 features with 11 features available.'"
      ]
     },
     "execution_count": 31,
     "metadata": {},
     "output_type": "execute_result"
    },
    {
     "data": {
      "text/html": [
       "<div>\n",
       "<style>\n",
       "    .dataframe thead tr:only-child th {\n",
       "        text-align: right;\n",
       "    }\n",
       "\n",
       "    .dataframe thead th {\n",
       "        text-align: left;\n",
       "    }\n",
       "\n",
       "    .dataframe tbody tr th {\n",
       "        vertical-align: top;\n",
       "    }\n",
       "</style>\n",
       "<table border=\"1\" class=\"dataframe\">\n",
       "  <thead>\n",
       "    <tr style=\"text-align: right;\">\n",
       "      <th></th>\n",
       "      <th>Age</th>\n",
       "      <th>Age_density</th>\n",
       "      <th>Deck</th>\n",
       "      <th>Embarked</th>\n",
       "      <th>FamilySize</th>\n",
       "      <th>Fare</th>\n",
       "      <th>Pclass</th>\n",
       "      <th>Sex</th>\n",
       "      <th>Survived</th>\n",
       "      <th>Ticket_density</th>\n",
       "      <th>Title</th>\n",
       "    </tr>\n",
       "  </thead>\n",
       "  <tbody>\n",
       "    <tr>\n",
       "      <th>0</th>\n",
       "      <td>22.0</td>\n",
       "      <td>27</td>\n",
       "      <td>8</td>\n",
       "      <td>2</td>\n",
       "      <td>2.0</td>\n",
       "      <td>7.2500</td>\n",
       "      <td>3</td>\n",
       "      <td>0</td>\n",
       "      <td>0</td>\n",
       "      <td>1</td>\n",
       "      <td>2</td>\n",
       "    </tr>\n",
       "    <tr>\n",
       "      <th>1</th>\n",
       "      <td>38.0</td>\n",
       "      <td>11</td>\n",
       "      <td>2</td>\n",
       "      <td>0</td>\n",
       "      <td>2.0</td>\n",
       "      <td>71.2833</td>\n",
       "      <td>1</td>\n",
       "      <td>1</td>\n",
       "      <td>1</td>\n",
       "      <td>1</td>\n",
       "      <td>3</td>\n",
       "    </tr>\n",
       "    <tr>\n",
       "      <th>2</th>\n",
       "      <td>26.0</td>\n",
       "      <td>18</td>\n",
       "      <td>8</td>\n",
       "      <td>2</td>\n",
       "      <td>1.0</td>\n",
       "      <td>7.9250</td>\n",
       "      <td>3</td>\n",
       "      <td>1</td>\n",
       "      <td>1</td>\n",
       "      <td>1</td>\n",
       "      <td>1</td>\n",
       "    </tr>\n",
       "    <tr>\n",
       "      <th>3</th>\n",
       "      <td>35.0</td>\n",
       "      <td>18</td>\n",
       "      <td>2</td>\n",
       "      <td>2</td>\n",
       "      <td>2.0</td>\n",
       "      <td>53.1000</td>\n",
       "      <td>1</td>\n",
       "      <td>1</td>\n",
       "      <td>1</td>\n",
       "      <td>2</td>\n",
       "      <td>3</td>\n",
       "    </tr>\n",
       "    <tr>\n",
       "      <th>4</th>\n",
       "      <td>35.0</td>\n",
       "      <td>18</td>\n",
       "      <td>8</td>\n",
       "      <td>2</td>\n",
       "      <td>1.0</td>\n",
       "      <td>8.0500</td>\n",
       "      <td>3</td>\n",
       "      <td>0</td>\n",
       "      <td>0</td>\n",
       "      <td>1</td>\n",
       "      <td>2</td>\n",
       "    </tr>\n",
       "  </tbody>\n",
       "</table>\n",
       "</div>"
      ],
      "text/plain": [
       "    Age  Age_density  Deck  Embarked  FamilySize     Fare  Pclass  Sex  \\\n",
       "0  22.0           27     8         2         2.0   7.2500       3    0   \n",
       "1  38.0           11     2         0         2.0  71.2833       1    1   \n",
       "2  26.0           18     8         2         1.0   7.9250       3    1   \n",
       "3  35.0           18     2         2         2.0  53.1000       1    1   \n",
       "4  35.0           18     8         2         1.0   8.0500       3    0   \n",
       "\n",
       "   Survived  Ticket_density  Title  \n",
       "0         0               1      2  \n",
       "1         1               1      3  \n",
       "2         1               1      1  \n",
       "3         1               2      3  \n",
       "4         0               1      2  "
      ]
     },
     "execution_count": 31,
     "metadata": {},
     "output_type": "execute_result"
    }
   ],
   "source": [
    "sml.feature.drop(['Name'])\n",
    "sml.feature.labels(['Title', 'Embarked', 'Deck'])\n",
    "sml.train.head()"
   ]
  },
  {
   "cell_type": "code",
   "execution_count": 32,
   "metadata": {
    "ExecuteTime": {
     "end_time": "2017-05-16T11:30:23.205251",
     "start_time": "2017-05-16T11:30:22.883315"
    }
   },
   "outputs": [
    {
     "data": {
      "image/png": "[encoded data removed]",
      "text/plain": [
       "<matplotlib.figure.Figure at 0x10da90c50>"
      ]
     },
     "metadata": {},
     "output_type": "display_data"
    }
   ],
   "source": [
    "sml.plot.importance()"
   ]
  },
  {
   "cell_type": "code",
   "execution_count": 33,
   "metadata": {
    "ExecuteTime": {
     "end_time": "2017-05-16T11:30:23.705079",
     "start_time": "2017-05-16T11:30:23.207097"
    }
   },
   "outputs": [
    {
     "data": {
      "image/png": "[encoded data removed]",
      "text/plain": [
       "<matplotlib.figure.Figure at 0x10d195a90>"
      ]
     },
     "metadata": {},
     "output_type": "display_data"
    }
   ],
   "source": [
    "sml.plot.correlate()"
   ]
  },
  {
   "cell_type": "code",
   "execution_count": 34,
   "metadata": {
    "ExecuteTime": {
     "end_time": "2017-05-16T11:30:26.187390",
     "start_time": "2017-05-16T11:30:23.707312"
    }
   },
   "outputs": [
    {
     "data": {
      "text/plain": [
       "<matplotlib.figure.Figure at 0x106e507b8>"
      ]
     },
     "metadata": {},
     "output_type": "display_data"
    },
    {
     "data": {
      "image/png": "[encoded data removed]",
      "text/plain": [
       "<matplotlib.figure.Figure at 0x106e39f98>"
      ]
     },
     "metadata": {},
     "output_type": "display_data"
    }
   ],
   "source": [
    "sml.plot.distribute()"
   ]
  },
  {
   "cell_type": "code",
   "execution_count": 35,
   "metadata": {
    "ExecuteTime": {
     "end_time": "2017-05-16T11:30:26.228375",
     "start_time": "2017-05-16T11:30:26.189741"
    }
   },
   "outputs": [
    {
     "data": {
      "text/html": [
       "<div>\n",
       "<style>\n",
       "    .dataframe thead tr:only-child th {\n",
       "        text-align: right;\n",
       "    }\n",
       "\n",
       "    .dataframe thead th {\n",
       "        text-align: left;\n",
       "    }\n",
       "\n",
       "    .dataframe tbody tr th {\n",
       "        vertical-align: top;\n",
       "    }\n",
       "</style>\n",
       "<table border=\"1\" class=\"dataframe\">\n",
       "  <thead>\n",
       "    <tr style=\"text-align: right;\">\n",
       "      <th></th>\n",
       "      <th>Results</th>\n",
       "      <th>Observations</th>\n",
       "    </tr>\n",
       "  </thead>\n",
       "  <tbody>\n",
       "    <tr>\n",
       "      <th>Speedml Release</th>\n",
       "      <td>v0.9.3</td>\n",
       "      <td>Visit https://speedml.com for release notes.</td>\n",
       "    </tr>\n",
       "    <tr>\n",
       "      <th>Outliers Upper</th>\n",
       "      <td>[Fare]</td>\n",
       "      <td>Positive skew (&gt; 3). Use feature.outliers(upper).</td>\n",
       "    </tr>\n",
       "    <tr>\n",
       "      <th>Shape</th>\n",
       "      <td>train (891, 11) | test (418, 10)</td>\n",
       "      <td></td>\n",
       "    </tr>\n",
       "    <tr>\n",
       "      <th>Numerical High-cardinality</th>\n",
       "      <td>[Age, Age_density, Fare]</td>\n",
       "      <td>(&gt;10) categories. Use feature.density</td>\n",
       "    </tr>\n",
       "    <tr>\n",
       "      <th>Numerical Categorical</th>\n",
       "      <td>[Deck, Embarked, FamilySize, Pclass, Sex, Surv...</td>\n",
       "      <td>Use plot.ordinal.</td>\n",
       "    </tr>\n",
       "    <tr>\n",
       "      <th>Target Analysis (Survived)</th>\n",
       "      <td>Model ready.</td>\n",
       "      <td>Use classification models.</td>\n",
       "    </tr>\n",
       "  </tbody>\n",
       "</table>\n",
       "</div>"
      ],
      "text/plain": [
       "                                                                      Results  \\\n",
       "Speedml Release                                                        v0.9.3   \n",
       "Outliers Upper                                                         [Fare]   \n",
       "Shape                                        train (891, 11) | test (418, 10)   \n",
       "Numerical High-cardinality                           [Age, Age_density, Fare]   \n",
       "Numerical Categorical       [Deck, Embarked, FamilySize, Pclass, Sex, Surv...   \n",
       "Target Analysis (Survived)                                       Model ready.   \n",
       "\n",
       "                                                                 Observations  \n",
       "Speedml Release                  Visit https://speedml.com for release notes.  \n",
       "Outliers Upper              Positive skew (> 3). Use feature.outliers(upper).  \n",
       "Shape                                                                          \n",
       "Numerical High-cardinality              (>10) categories. Use feature.density  \n",
       "Numerical Categorical                                       Use plot.ordinal.  \n",
       "Target Analysis (Survived)                         Use classification models.  "
      ]
     },
     "execution_count": 35,
     "metadata": {},
     "output_type": "execute_result"
    }
   ],
   "source": [
    "sml.eda()"
   ]
  },
  {
   "cell_type": "code",
   "execution_count": 36,
   "metadata": {
    "ExecuteTime": {
     "end_time": "2017-05-16T11:30:26.237202",
     "start_time": "2017-05-16T11:30:26.230764"
    }
   },
   "outputs": [
    {
     "data": {
      "text/plain": [
       "'train_X: (891, 10) train_y: (891,) test_X: (418, 10)'"
      ]
     },
     "execution_count": 36,
     "metadata": {},
     "output_type": "execute_result"
    }
   ],
   "source": [
    "sml.model.data()"
   ]
  },
  {
   "cell_type": "markdown",
   "metadata": {},
   "source": [
    "## Hyper-parameters Tuning\n",
    "\n",
    "This is an important step in the workflow. We optimize the hyper-parameters used for our XGBoost classifier to get the best results. We do this iteratively by setting certain hyper-parameters as fixed while checking permutations for two select parameters at a time.\n",
    "\n",
    "The resulting table ranks the permutations based on accuracy, highest rank = 1.\n",
    "\n",
    "We now substitute the highest ranking parameters as fixed in the next round of optimization, selecting an alternate pair of parameters to optimize this time. Repeat this process for as many parameters as required. Normally two rounds of tuning is sufficient."
   ]
  },
  {
   "cell_type": "code",
   "execution_count": 37,
   "metadata": {
    "ExecuteTime": {
     "end_time": "2017-05-16T11:30:28.017156",
     "start_time": "2017-05-16T11:30:26.239115"
    }
   },
   "outputs": [
    {
     "data": {
      "text/html": [
       "<div>\n",
       "<style>\n",
       "    .dataframe thead tr:only-child th {\n",
       "        text-align: right;\n",
       "    }\n",
       "\n",
       "    .dataframe thead th {\n",
       "        text-align: left;\n",
       "    }\n",
       "\n",
       "    .dataframe tbody tr th {\n",
       "        vertical-align: top;\n",
       "    }\n",
       "</style>\n",
       "<table border=\"1\" class=\"dataframe\">\n",
       "  <thead>\n",
       "    <tr style=\"text-align: right;\">\n",
       "      <th></th>\n",
       "      <th>rank</th>\n",
       "      <th>params</th>\n",
       "    </tr>\n",
       "  </thead>\n",
       "  <tbody>\n",
       "    <tr>\n",
       "      <th>4</th>\n",
       "      <td>1</td>\n",
       "      <td>{'max_depth': 5, 'min_child_weight': 3}</td>\n",
       "    </tr>\n",
       "    <tr>\n",
       "      <th>0</th>\n",
       "      <td>2</td>\n",
       "      <td>{'max_depth': 3, 'min_child_weight': 1}</td>\n",
       "    </tr>\n",
       "    <tr>\n",
       "      <th>8</th>\n",
       "      <td>2</td>\n",
       "      <td>{'max_depth': 7, 'min_child_weight': 5}</td>\n",
       "    </tr>\n",
       "    <tr>\n",
       "      <th>5</th>\n",
       "      <td>4</td>\n",
       "      <td>{'max_depth': 5, 'min_child_weight': 5}</td>\n",
       "    </tr>\n",
       "    <tr>\n",
       "      <th>1</th>\n",
       "      <td>5</td>\n",
       "      <td>{'max_depth': 3, 'min_child_weight': 3}</td>\n",
       "    </tr>\n",
       "    <tr>\n",
       "      <th>7</th>\n",
       "      <td>6</td>\n",
       "      <td>{'max_depth': 7, 'min_child_weight': 3}</td>\n",
       "    </tr>\n",
       "    <tr>\n",
       "      <th>3</th>\n",
       "      <td>7</td>\n",
       "      <td>{'max_depth': 5, 'min_child_weight': 1}</td>\n",
       "    </tr>\n",
       "    <tr>\n",
       "      <th>2</th>\n",
       "      <td>8</td>\n",
       "      <td>{'max_depth': 3, 'min_child_weight': 5}</td>\n",
       "    </tr>\n",
       "    <tr>\n",
       "      <th>6</th>\n",
       "      <td>8</td>\n",
       "      <td>{'max_depth': 7, 'min_child_weight': 1}</td>\n",
       "    </tr>\n",
       "  </tbody>\n",
       "</table>\n",
       "</div>"
      ],
      "text/plain": [
       "   rank                                   params\n",
       "4     1  {'max_depth': 5, 'min_child_weight': 3}\n",
       "0     2  {'max_depth': 3, 'min_child_weight': 1}\n",
       "8     2  {'max_depth': 7, 'min_child_weight': 5}\n",
       "5     4  {'max_depth': 5, 'min_child_weight': 5}\n",
       "1     5  {'max_depth': 3, 'min_child_weight': 3}\n",
       "7     6  {'max_depth': 7, 'min_child_weight': 3}\n",
       "3     7  {'max_depth': 5, 'min_child_weight': 1}\n",
       "2     8  {'max_depth': 3, 'min_child_weight': 5}\n",
       "6     8  {'max_depth': 7, 'min_child_weight': 1}"
      ]
     },
     "execution_count": 37,
     "metadata": {},
     "output_type": "execute_result"
    }
   ],
   "source": [
    "select_params = {'max_depth': [3,5,7], 'min_child_weight': [1,3,5]}\n",
    "fixed_params = {'learning_rate':0.1, 'subsample':0.8, \n",
    "                'colsample_bytree':0.8, 'seed':0, \n",
    "                'objective': 'binary:logistic'}\n",
    "\n",
    "sml.xgb.hyper(select_params, fixed_params)"
   ]
  },
  {
   "cell_type": "code",
   "execution_count": 38,
   "metadata": {
    "ExecuteTime": {
     "end_time": "2017-05-16T11:30:29.318960",
     "start_time": "2017-05-16T11:30:28.020855"
    }
   },
   "outputs": [
    {
     "data": {
      "text/html": [
       "<div>\n",
       "<style>\n",
       "    .dataframe thead tr:only-child th {\n",
       "        text-align: right;\n",
       "    }\n",
       "\n",
       "    .dataframe thead th {\n",
       "        text-align: left;\n",
       "    }\n",
       "\n",
       "    .dataframe tbody tr th {\n",
       "        vertical-align: top;\n",
       "    }\n",
       "</style>\n",
       "<table border=\"1\" class=\"dataframe\">\n",
       "  <thead>\n",
       "    <tr style=\"text-align: right;\">\n",
       "      <th></th>\n",
       "      <th>rank</th>\n",
       "      <th>params</th>\n",
       "    </tr>\n",
       "  </thead>\n",
       "  <tbody>\n",
       "    <tr>\n",
       "      <th>3</th>\n",
       "      <td>1</td>\n",
       "      <td>{'learning_rate': 0.1, 'subsample': 0.7}</td>\n",
       "    </tr>\n",
       "    <tr>\n",
       "      <th>4</th>\n",
       "      <td>2</td>\n",
       "      <td>{'learning_rate': 0.1, 'subsample': 0.8}</td>\n",
       "    </tr>\n",
       "    <tr>\n",
       "      <th>1</th>\n",
       "      <td>3</td>\n",
       "      <td>{'learning_rate': 0.3, 'subsample': 0.8}</td>\n",
       "    </tr>\n",
       "    <tr>\n",
       "      <th>2</th>\n",
       "      <td>4</td>\n",
       "      <td>{'learning_rate': 0.3, 'subsample': 0.9}</td>\n",
       "    </tr>\n",
       "    <tr>\n",
       "      <th>5</th>\n",
       "      <td>5</td>\n",
       "      <td>{'learning_rate': 0.1, 'subsample': 0.9}</td>\n",
       "    </tr>\n",
       "    <tr>\n",
       "      <th>0</th>\n",
       "      <td>6</td>\n",
       "      <td>{'learning_rate': 0.3, 'subsample': 0.7}</td>\n",
       "    </tr>\n",
       "    <tr>\n",
       "      <th>7</th>\n",
       "      <td>7</td>\n",
       "      <td>{'learning_rate': 0.01, 'subsample': 0.8}</td>\n",
       "    </tr>\n",
       "    <tr>\n",
       "      <th>6</th>\n",
       "      <td>8</td>\n",
       "      <td>{'learning_rate': 0.01, 'subsample': 0.7}</td>\n",
       "    </tr>\n",
       "    <tr>\n",
       "      <th>8</th>\n",
       "      <td>8</td>\n",
       "      <td>{'learning_rate': 0.01, 'subsample': 0.9}</td>\n",
       "    </tr>\n",
       "  </tbody>\n",
       "</table>\n",
       "</div>"
      ],
      "text/plain": [
       "   rank                                     params\n",
       "3     1   {'learning_rate': 0.1, 'subsample': 0.7}\n",
       "4     2   {'learning_rate': 0.1, 'subsample': 0.8}\n",
       "1     3   {'learning_rate': 0.3, 'subsample': 0.8}\n",
       "2     4   {'learning_rate': 0.3, 'subsample': 0.9}\n",
       "5     5   {'learning_rate': 0.1, 'subsample': 0.9}\n",
       "0     6   {'learning_rate': 0.3, 'subsample': 0.7}\n",
       "7     7  {'learning_rate': 0.01, 'subsample': 0.8}\n",
       "6     8  {'learning_rate': 0.01, 'subsample': 0.7}\n",
       "8     8  {'learning_rate': 0.01, 'subsample': 0.9}"
      ]
     },
     "execution_count": 38,
     "metadata": {},
     "output_type": "execute_result"
    }
   ],
   "source": [
    "select_params = {'learning_rate': [0.3, 0.1, 0.01], 'subsample': [0.7,0.8,0.9]}\n",
    "fixed_params = {'max_depth':3, 'min_child_weight':1, \n",
    "                'colsample_bytree': 0.8, 'seed':0, \n",
    "                'objective':'binary:logistic'}\n",
    "\n",
    "sml.xgb.hyper(select_params, fixed_params)"
   ]
  },
  {
   "cell_type": "code",
   "execution_count": 39,
   "metadata": {
    "ExecuteTime": {
     "end_time": "2017-05-16T11:30:29.510968",
     "start_time": "2017-05-16T11:30:29.322225"
    },
    "collapsed": true
   },
   "outputs": [],
   "source": [
    "tuned_params = {'learning_rate': 0.1, 'subsample':0.8, \n",
    "                'max_depth':3, 'min_child_weight':1,\n",
    "                'seed':0, 'colsample_bytree':0.8, \n",
    "                'objective':'binary:logistic'}\n",
    "sml.xgb.cv(tuned_params)"
   ]
  },
  {
   "cell_type": "code",
   "execution_count": 40,
   "metadata": {
    "ExecuteTime": {
     "end_time": "2017-05-16T11:30:29.526590",
     "start_time": "2017-05-16T11:30:29.513254"
    }
   },
   "outputs": [
    {
     "data": {
      "text/html": [
       "<div>\n",
       "<style>\n",
       "    .dataframe thead tr:only-child th {\n",
       "        text-align: right;\n",
       "    }\n",
       "\n",
       "    .dataframe thead th {\n",
       "        text-align: left;\n",
       "    }\n",
       "\n",
       "    .dataframe tbody tr th {\n",
       "        vertical-align: top;\n",
       "    }\n",
       "</style>\n",
       "<table border=\"1\" class=\"dataframe\">\n",
       "  <thead>\n",
       "    <tr style=\"text-align: right;\">\n",
       "      <th></th>\n",
       "      <th>test-error-mean</th>\n",
       "      <th>test-error-std</th>\n",
       "      <th>train-error-mean</th>\n",
       "      <th>train-error-std</th>\n",
       "    </tr>\n",
       "  </thead>\n",
       "  <tbody>\n",
       "    <tr>\n",
       "      <th>59</th>\n",
       "      <td>0.168539</td>\n",
       "      <td>0.009401</td>\n",
       "      <td>0.122753</td>\n",
       "      <td>0.006192</td>\n",
       "    </tr>\n",
       "    <tr>\n",
       "      <th>60</th>\n",
       "      <td>0.165168</td>\n",
       "      <td>0.010420</td>\n",
       "      <td>0.121629</td>\n",
       "      <td>0.005660</td>\n",
       "    </tr>\n",
       "    <tr>\n",
       "      <th>61</th>\n",
       "      <td>0.166292</td>\n",
       "      <td>0.010420</td>\n",
       "      <td>0.119944</td>\n",
       "      <td>0.006742</td>\n",
       "    </tr>\n",
       "    <tr>\n",
       "      <th>62</th>\n",
       "      <td>0.165168</td>\n",
       "      <td>0.009795</td>\n",
       "      <td>0.121349</td>\n",
       "      <td>0.004750</td>\n",
       "    </tr>\n",
       "    <tr>\n",
       "      <th>63</th>\n",
       "      <td>0.164045</td>\n",
       "      <td>0.011997</td>\n",
       "      <td>0.120225</td>\n",
       "      <td>0.005660</td>\n",
       "    </tr>\n",
       "  </tbody>\n",
       "</table>\n",
       "</div>"
      ],
      "text/plain": [
       "    test-error-mean  test-error-std  train-error-mean  train-error-std\n",
       "59         0.168539        0.009401          0.122753         0.006192\n",
       "60         0.165168        0.010420          0.121629         0.005660\n",
       "61         0.166292        0.010420          0.119944         0.006742\n",
       "62         0.165168        0.009795          0.121349         0.004750\n",
       "63         0.164045        0.011997          0.120225         0.005660"
      ]
     },
     "execution_count": 40,
     "metadata": {},
     "output_type": "execute_result"
    }
   ],
   "source": [
    "sml.xgb.cv_results.tail(5)"
   ]
  },
  {
   "cell_type": "code",
   "execution_count": 41,
   "metadata": {
    "ExecuteTime": {
     "end_time": "2017-05-16T11:30:29.533516",
     "start_time": "2017-05-16T11:30:29.528628"
    },
    "collapsed": true
   },
   "outputs": [],
   "source": [
    "tuned_params['n_estimators'] = sml.xgb.cv_results.shape[0] - 1\n",
    "sml.xgb.params(tuned_params)"
   ]
  },
  {
   "cell_type": "markdown",
   "metadata": {},
   "source": [
    "## Model Evaluation and Prediction\n",
    "\n",
    "We can now evaluate various models against our datasets to see which one is best suited."
   ]
  },
  {
   "cell_type": "code",
   "execution_count": 42,
   "metadata": {
    "ExecuteTime": {
     "end_time": "2017-05-16T11:30:29.540352",
     "start_time": "2017-05-16T11:30:29.536023"
    },
    "collapsed": true
   },
   "outputs": [],
   "source": [
    "sml.xgb.classifier()"
   ]
  },
  {
   "cell_type": "code",
   "execution_count": 43,
   "metadata": {
    "ExecuteTime": {
     "end_time": "2017-05-16T11:30:33.369301",
     "start_time": "2017-05-16T11:30:29.543152"
    }
   },
   "outputs": [
    {
     "data": {
      "image/png": "[encoded data removed]",
      "text/plain": [
       "<matplotlib.figure.Figure at 0x10dc051d0>"
      ]
     },
     "metadata": {},
     "output_type": "display_data"
    }
   ],
   "source": [
    "sml.model.evaluate()\n",
    "sml.plot.model_ranks()"
   ]
  },
  {
   "cell_type": "code",
   "execution_count": 44,
   "metadata": {
    "ExecuteTime": {
     "end_time": "2017-05-16T11:30:33.384836",
     "start_time": "2017-05-16T11:30:33.371393"
    }
   },
   "outputs": [
    {
     "data": {
      "text/html": [
       "<div>\n",
       "<style>\n",
       "    .dataframe thead tr:only-child th {\n",
       "        text-align: right;\n",
       "    }\n",
       "\n",
       "    .dataframe thead th {\n",
       "        text-align: left;\n",
       "    }\n",
       "\n",
       "    .dataframe tbody tr th {\n",
       "        vertical-align: top;\n",
       "    }\n",
       "</style>\n",
       "<table border=\"1\" class=\"dataframe\">\n",
       "  <thead>\n",
       "    <tr style=\"text-align: right;\">\n",
       "      <th></th>\n",
       "      <th>Classifier</th>\n",
       "      <th>Accuracy</th>\n",
       "    </tr>\n",
       "  </thead>\n",
       "  <tbody>\n",
       "    <tr>\n",
       "      <th>0</th>\n",
       "      <td>GradientBoostingClassifier</td>\n",
       "      <td>0.834444</td>\n",
       "    </tr>\n",
       "    <tr>\n",
       "      <th>0</th>\n",
       "      <td>XGBClassifier</td>\n",
       "      <td>0.832222</td>\n",
       "    </tr>\n",
       "    <tr>\n",
       "      <th>0</th>\n",
       "      <td>AdaBoostClassifier</td>\n",
       "      <td>0.816667</td>\n",
       "    </tr>\n",
       "    <tr>\n",
       "      <th>0</th>\n",
       "      <td>RandomForestClassifier</td>\n",
       "      <td>0.814444</td>\n",
       "    </tr>\n",
       "    <tr>\n",
       "      <th>0</th>\n",
       "      <td>DecisionTreeClassifier</td>\n",
       "      <td>0.797778</td>\n",
       "    </tr>\n",
       "    <tr>\n",
       "      <th>0</th>\n",
       "      <td>LogisticRegression</td>\n",
       "      <td>0.787778</td>\n",
       "    </tr>\n",
       "    <tr>\n",
       "      <th>0</th>\n",
       "      <td>GaussianNB</td>\n",
       "      <td>0.780000</td>\n",
       "    </tr>\n",
       "    <tr>\n",
       "      <th>0</th>\n",
       "      <td>SVC</td>\n",
       "      <td>0.712222</td>\n",
       "    </tr>\n",
       "    <tr>\n",
       "      <th>0</th>\n",
       "      <td>KNeighborsClassifier</td>\n",
       "      <td>0.703333</td>\n",
       "    </tr>\n",
       "  </tbody>\n",
       "</table>\n",
       "</div>"
      ],
      "text/plain": [
       "                   Classifier  Accuracy\n",
       "0  GradientBoostingClassifier  0.834444\n",
       "0               XGBClassifier  0.832222\n",
       "0          AdaBoostClassifier  0.816667\n",
       "0      RandomForestClassifier  0.814444\n",
       "0      DecisionTreeClassifier  0.797778\n",
       "0          LogisticRegression  0.787778\n",
       "0                  GaussianNB  0.780000\n",
       "0                         SVC  0.712222\n",
       "0        KNeighborsClassifier  0.703333"
      ]
     },
     "execution_count": 44,
     "metadata": {},
     "output_type": "execute_result"
    }
   ],
   "source": [
    "sml.model.ranks()"
   ]
  },
  {
   "cell_type": "markdown",
   "metadata": {},
   "source": [
    "## Model Prediction and Feature Selection\n",
    "\n",
    "This part of our notebook trains the XGBoost model, generates the model predictions and plots features based on model assigned importance (weights)."
   ]
  },
  {
   "cell_type": "code",
   "execution_count": 45,
   "metadata": {
    "ExecuteTime": {
     "end_time": "2017-05-16T11:30:33.661203",
     "start_time": "2017-05-16T11:30:33.386494"
    }
   },
   "outputs": [
    {
     "data": {
      "image/png": "[encoded data removed]",
      "text/plain": [
       "<matplotlib.figure.Figure at 0x10dcdf128>"
      ]
     },
     "metadata": {},
     "output_type": "display_data"
    }
   ],
   "source": [
    "sml.xgb.fit()\n",
    "sml.xgb.predict()\n",
    "\n",
    "sml.plot.xgb_importance()"
   ]
  },
  {
   "cell_type": "code",
   "execution_count": 46,
   "metadata": {
    "ExecuteTime": {
     "end_time": "2017-05-16T11:30:34.033419",
     "start_time": "2017-05-16T11:30:33.663479"
    }
   },
   "outputs": [
    {
     "name": "stdout",
     "output_type": "stream",
     "text": [
      "Accuracy: 79.480000%\n",
      "Thresh=0.033, n=10, Accuracy: 79.48%\n",
      "Thresh=0.035, n=9, Accuracy: 79.10%\n",
      "Thresh=0.060, n=8, Accuracy: 77.24%\n",
      "Thresh=0.066, n=7, Accuracy: 77.24%\n",
      "Thresh=0.068, n=6, Accuracy: 76.12%\n",
      "Thresh=0.081, n=5, Accuracy: 76.12%\n",
      "Thresh=0.086, n=4, Accuracy: 68.28%\n",
      "Thresh=0.101, n=3, Accuracy: 69.03%\n",
      "Thresh=0.167, n=2, Accuracy: 69.40%\n",
      "Thresh=0.304, n=1, Accuracy: 69.40%\n"
     ]
    }
   ],
   "source": [
    "sml.xgb.feature_selection()"
   ]
  },
  {
   "cell_type": "code",
   "execution_count": 47,
   "metadata": {
    "ExecuteTime": {
     "end_time": "2017-05-16T11:30:34.044125",
     "start_time": "2017-05-16T11:30:34.035379"
    }
   },
   "outputs": [
    {
     "data": {
      "text/plain": [
       "'Accuracy = 87.43%. Found 779 correct of 891 total labels'"
      ]
     },
     "execution_count": 47,
     "metadata": {},
     "output_type": "execute_result"
    }
   ],
   "source": [
    "sml.xgb.sample_accuracy()"
   ]
  },
  {
   "cell_type": "code",
   "execution_count": 48,
   "metadata": {
    "ExecuteTime": {
     "end_time": "2017-05-16T11:30:34.062541",
     "start_time": "2017-05-16T11:30:34.047236"
    }
   },
   "outputs": [
    {
     "data": {
      "text/plain": [
       "'Results saved.'"
      ]
     },
     "execution_count": 48,
     "metadata": {},
     "output_type": "execute_result"
    },
    {
     "data": {
      "text/plain": [
       "'e16.40-m83.22-s87.43-f79.48'"
      ]
     },
     "execution_count": 48,
     "metadata": {},
     "output_type": "execute_result"
    }
   ],
   "source": [
    "sml.save_results(\n",
    "    columns={ 'PassengerId': sml.uid,\n",
    "             'Survived': sml.xgb.predictions }, \n",
    "    file_path='../output/titanic-speedml-{}.csv'.format(sml.slug()))\n",
    "sml.slug()"
   ]
  }
 ],
 "metadata": {
  "hide_input": false,
  "kernelspec": {
   "display_name": "Python 3",
   "language": "python",
   "name": "python3"
  },
  "language_info": {
   "codemirror_mode": {
    "name": "ipython",
    "version": 3
   },
   "file_extension": ".py",
   "mimetype": "text/x-python",
   "name": "python",
   "nbconvert_exporter": "python",
   "pygments_lexer": "ipython3",
   "version": "3.6.2"
  },
  "toc": {
   "colors": {
    "hover_highlight": "#DAA520",
    "navigate_num": "#000000",
    "navigate_text": "#333333",
    "running_highlight": "#FF0000",
    "selected_highlight": "#FFD700",
    "sidebar_border": "#EEEEEE",
    "wrapper_background": "#FFFFFF"
   },
   "moveMenuLeft": true,
   "nav_menu": {
    "height": "234px",
    "width": "254px"
   },
   "navigate_menu": true,
   "number_sections": true,
   "sideBar": true,
   "threshold": 4,
   "toc_cell": false,
   "toc_section_display": "block",
   "toc_window_display": false,
   "widenNotebook": false
  }
 },
 "nbformat": 4,
 "nbformat_minor": 2
}
